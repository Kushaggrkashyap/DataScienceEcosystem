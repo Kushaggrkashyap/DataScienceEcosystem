{
 "cells": [
  {
   "cell_type": "markdown",
   "id": "b8fdcbdc-c638-4b73-8526-42125036dd0f",
   "metadata": {},
   "source": [
    "# Data Science Tools and Ecosystem"
   ]
  },
  {
   "cell_type": "markdown",
   "id": "0352cd37-2845-4bbb-a588-4dca61019a3d",
   "metadata": {},
   "source": [
    "In this notebook, Data Science Tools and Ecosystem are summarized."
   ]
  },
  {
   "cell_type": "markdown",
   "id": "adf49a69-f1dd-479a-acb0-29cf7e9ded0a",
   "metadata": {},
   "source": [
    "Some of the popular languages that Data Scientists use are:\n",
    "1. Python\n",
    "2. SQL\n",
    "3. R\n",
    "4. C++\n",
    "5. Java"
   ]
  },
  {
   "cell_type": "markdown",
   "id": "77b604a9-1a6c-43ae-81a5-e2256ab8feee",
   "metadata": {},
   "source": [
    "Some of the commonly used libraries used by Data Scientists include:\n",
    "1. Tensorflow\n",
    "2. Scipy\n",
    "3. Keras\n",
    "4. Numpy\n",
    "5. Pandas\n",
    "6. Matplotlib\n",
    "7. Seaborn\n",
    "8. Pytorch\n",
    "9. Scikit-learn\n",
    "10. Plotly"
   ]
  },
  {
   "cell_type": "markdown",
   "id": "ac32753f-65c0-45c1-a5da-8302bb7f1e3c",
   "metadata": {},
   "source": [
    "|Data Science Tools|\n",
    "|---|\n",
    "|SAS|\n",
    "|Apache Hadoop|\n",
    "|Tensorflow|"
   ]
  },
  {
   "cell_type": "markdown",
   "id": "28c45cc4-f931-4841-a9a3-684a9654120f",
   "metadata": {},
   "source": [
    "### Below are a few examples of evaluating arithmetic expressions in Python"
   ]
  },
  {
   "cell_type": "code",
   "execution_count": 1,
   "id": "a8da84af-c80f-43ab-b714-b4f52249b094",
   "metadata": {
    "tags": []
   },
   "outputs": [
    {
     "data": {
      "text/plain": [
       "17"
      ]
     },
     "execution_count": 1,
     "metadata": {},
     "output_type": "execute_result"
    }
   ],
   "source": [
    "# This a simple arithmetic expression to mutiply then add integers\n",
    "(3*4)+5"
   ]
  },
  {
   "cell_type": "code",
   "execution_count": 2,
   "id": "451e99ce-0e32-4b0d-ae4c-3659a325c2cd",
   "metadata": {
    "tags": []
   },
   "outputs": [
    {
     "data": {
      "text/plain": [
       "3.3333333333333335"
      ]
     },
     "execution_count": 2,
     "metadata": {},
     "output_type": "execute_result"
    }
   ],
   "source": [
    "# This will convert 200 minutes to hours by diving by 60\n",
    "200/60"
   ]
  },
  {
   "cell_type": "markdown",
   "id": "ba810cf3-25a6-4743-9da9-000618cf8853",
   "metadata": {},
   "source": [
    "__Objectives__\n",
    "* List popular languages for data Science\n",
    "* List popular libraries for Data Science\n",
    "* List of well known Data Science tools\n",
    "* How to provide comment in the cell"
   ]
  },
  {
   "cell_type": "markdown",
   "id": "b3d33090-6ae4-41e3-96cc-54cabbfd935c",
   "metadata": {},
   "source": [
    "## Author\n",
    "Kushaggr Kashyap"
   ]
  }
 ],
 "metadata": {
  "kernelspec": {
   "display_name": "Python",
   "language": "python",
   "name": "conda-env-python-py"
  },
  "language_info": {
   "codemirror_mode": {
    "name": "ipython",
    "version": 3
   },
   "file_extension": ".py",
   "mimetype": "text/x-python",
   "name": "python",
   "nbconvert_exporter": "python",
   "pygments_lexer": "ipython3",
   "version": "3.7.12"
  }
 },
 "nbformat": 4,
 "nbformat_minor": 5
}
